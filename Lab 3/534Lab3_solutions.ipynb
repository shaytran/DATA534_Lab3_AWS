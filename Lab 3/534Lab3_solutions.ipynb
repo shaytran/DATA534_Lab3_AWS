{
 "cells": [
  {
   "cell_type": "markdown",
   "metadata": {
    "colab_type": "text",
    "id": "DH-kbF1YMwFN"
   },
   "source": [
    "# Web and Cloud Computing (DATA 534): Lab 3\n",
    "## General Lab Instructions\n",
    "\n",
    "- I added an Intro section to help you with the basics for this lab."
   ]
  },
  {
   "cell_type": "markdown",
   "metadata": {
    "colab_type": "text",
    "id": "9hDUJj4yMwFS"
   },
   "source": [
    "# Intro\n",
    "\n",
    "In this lab you will be called to interact programmatically with Amazon's AWS cloud platform. The choice of the platform is to a certain extent arbitrary (many competitors offer similar services), yet AWS still seems to be a standard goto in many companies. More importantly, the skills that you will acquire in dealing with AWS are also useful when approaching the alternatives.\n",
    "\n",
    "Resources:\n",
    "- I strongly advise you to read [this datacamp tutorial](https://www.datacamp.com/community/tutorials/aws-ec2-beginner-tutorial), though do not start a Windows instnace like the tutorial suggests. We will be using Linux.\n",
    "- If you have a couple hours, you can watch [this video](https://www.youtube.com/watch?v=IFdBD3YdLJc&feature=youtu.be) which is a great introductory lecture.\n",
    "\n",
    "\n",
    "Note:\n",
    "- **Windows users** (recommended but not required): For this lab it might be worthy for you to install the Linux subsystem for Windows (see [here](https://docs.microsoft.com/en-us/windows/wsl/install-win10)). As for the distribution, I suggest you to go with Ubuntu 18. Doing that you can connect with your AWS server just with one line in the linux bash (in fact, it is also possible doing the same thing with powershell, except it is a bit trickier to define permissions in Windows - I can try to help you if you want. Alternatively, you can use [PuTTY](https://docs.aws.amazon.com/AWSEC2/latest/UserGuide/putty.html).)"
   ]
  },
  {
   "cell_type": "markdown",
   "metadata": {
    "colab_type": "text",
    "id": "irgtVUs6MwFU"
   },
   "source": [
    "## Using AWS's instances (EC2) and storage (S3) to do analysis in the cloud\n",
    "\n",
    "\n",
    "\n",
    "### Exercise 1.1 - Starting an instance and installing stuff\n",
    "\n",
    "- Launch a Linux (I would suggest an Ubuntu) EC2 instance (select it from the free tier, “t2.micro”);\n",
    "- Be sure to download the .pem file when prompted;\n",
    "    + If you're using Linux or MacOS on your machine, you might need to run `chmod 400 my-key-pair.pem` on your pem file for the ssh command to work properly ([source](https://docs.aws.amazon.com/AWSEC2/latest/UserGuide/ec2-key-pairs.html))\n",
    "- ssh into your AWS instance (Windows users can choose to use PuTTY if they prefer);\n",
    "    + Please see [these instructions](https://docs.aws.amazon.com/AWSEC2/latest/UserGuide/AccessingInstancesLinux.html) on how to SSH into your AWS instance using the Linux shell\n",
    "    + [This resource](https://docs.aws.amazon.com/AWSEC2/latest/UserGuide/connection-prereqs.html) is helpful for finding some of the information you need to provide to the ssh command\n",
    "\n",
    "- Install the below list of dependencies. Record how long this takes.\n",
    "    + update your server (`sudo apt-get update; sudo apt-get upgrade`)\n",
    "    + python's `pip` (if not already there; in Ubuntu is a oneliner `sudo apt-get install python3-pip` on the command line)\n",
    "    + [install AWS CLI](https://docs.aws.amazon.com/cli/latest/userguide/installing.html).\n",
    "        + These commands in these instructions make use of the `unzip` command. This may not be included with a base Ubuntu instance so you may need to install the unzip utility using `sudo apt-get install unzip`\n",
    "    + R (again, on a Ubuntu is a oneliner: `sudo apt-get install r-base`, but see [here](http://randyzwitch.com/r-amazon-ec2/) for fuller discussion);\n",
    "\n",
    "Provide a screenshot proving what you have installed."
   ]
  },
  {
   "cell_type": "markdown",
   "metadata": {},
   "source": [
    "#### Answer\n",
    "\n",
    "1. **Update server:** 1-2 seconds\n",
    "![update server](updateserver.png)\n",
    "\n",
    "2. **Python pip:** 1-2 seconds\n",
    "![pip](pip.png)\n",
    "\n",
    "3. **AWS:** 5 seconds\n",
    "![AWS CLI](aws.png)\n",
    "\n",
    "4. **R:** 9-10 seconds\n",
    "![R](R.png)\n",
    "\n",
    "***"
   ]
  },
  {
   "cell_type": "markdown",
   "metadata": {
    "colab_type": "text",
    "id": "xB0nWkt5MwFW"
   },
   "source": [
    "### Exercise 1.2 - Speeding things up by saving computing environments through AMI\n",
    "\n",
    "- Save the instance of Ex 1A as an [AMI](https://docs.aws.amazon.com/toolkit-for-visual-studio/latest/user-guide/tkv-create-ami-from-instance.html).\n",
    "- Take a screenshot of the AMI panel on your EC2 dashboard.\n",
    "- !!! **Terminate the EC2 instances** !!! \n",
    "    + This is important, leaving instances running for a long time may incurr a charge on your payment method.\n",
    "- Launch a new instance and get back to the computing environment you had using the AMI you saved. How long did this take? Stop the instance."
   ]
  },
  {
   "cell_type": "markdown",
   "metadata": {},
   "source": [
    "#### Answer\n",
    "![AMI](AMI.png)\n",
    "\n",
    "Launching a new instance took about 10 seconds.\n",
    "***"
   ]
  },
  {
   "cell_type": "markdown",
   "metadata": {
    "colab_type": "text",
    "id": "FW5EATvuMwFY"
   },
   "source": [
    "### Exercise 2 - Accessing AWS through the command line\n",
    "\n",
    "Now that you have acquainted with basic services of AWS, you will now learn to use AWS in a more advanced way (from the command line). First, follow the tutorial [here (for configuration)](https://docs.aws.amazon.com/cli/latest/userguide/cli-configure-files.html) and [here (for using)](https://docs.aws.amazon.com/cli/latest/userguide/cli-chap-using.html) to set up AWS command line interface (CLI) on your local computer.\n",
    " \n",
    "We want you to invest some time on this by yourself: go over the documentation (an important skill we hope you acquire is that of learning to read the documentation to extract the information you need). Sometimes it might be a bit frustrating to go through so many resources, but it is important for your to practice this.\n",
    "\n",
    "\n",
    "You don't actually need to show your results here."
   ]
  },
  {
   "cell_type": "markdown",
   "metadata": {
    "colab_type": "text",
    "id": "4i9tTA_sMwFa"
   },
   "source": [
    "#### Exercise 2.1\n",
    "\n",
    "In Exercise 1.2 you stopped the instance you used. Now, using AWS CLI, start the instance once again. Then, stop the instance in sequence. Take a screenshot of the command you used and the output you got."
   ]
  },
  {
   "cell_type": "markdown",
   "metadata": {},
   "source": [
    "#### Answer\n",
    "\n",
    "![starting and stopping](startstop.png)"
   ]
  },
  {
   "cell_type": "markdown",
   "metadata": {
    "colab_type": "text",
    "id": "Ijy7tRnFMwFc"
   },
   "source": [
    "#### Exercise 2.2"
   ]
  },
  {
   "cell_type": "markdown",
   "metadata": {
    "colab_type": "text",
    "id": "x0EoK3dTMwFd"
   },
   "source": [
    "Now, create an S3 bucket. Hint: Type `aws s3api help` or take a look at the online [documentation](https://docs.aws.amazon.com/cli/latest/reference/s3api/index.html). Submit the command that you used to create the bucket."
   ]
  },
  {
   "cell_type": "markdown",
   "metadata": {},
   "source": [
    "#### Answer\n",
    "![S3](s3.png)"
   ]
  },
  {
   "cell_type": "markdown",
   "metadata": {
    "colab_type": "text",
    "id": "UmfM1y7dMwFf"
   },
   "source": [
    "### Exercise 3 - Using S3\n",
    "\n",
    "In this exercise you will replicate an analysis (you choose which one) of a dataset you've already done (and for which you have the necessary scripts ready) on EC2 + S3. The goal is to focus on understanding how to access files using S3, process them in your EC2 instance, then retrieve the result. Suggestions would be basic regression tasks, plots, or similar.  \n",
    "\n",
    "1. Using AWS CLI - upload a datafile of your choice to Amazon's S3. How to do this is documented [here](http://docs.aws.amazon.com/cli/latest/userguide/using-s3-commands.html).\n",
    "2. Take a screenshot of your terminal with the command you used above and  ```> aws s3 ls s3://your_bucket``` to show that you did this succesfully.\n",
    "3. Launch a new Ubuntu EC2 instance and configure AWS CLI (use the AMI with AWS CLI configured if you have configured it and saved it as an AMI in Exercise 1). This will allow you to access `s3` services from your EC2 instance. Otherwise, you can get the data from S3 via `wget` as described [here](http://docs.aws.amazon.com/AWSEC2/latest/UserGuide/AmazonS3.html).\n",
    "4. Run the necessary code to install the software you need (if it is not already in the instance) and to run your analysis.\n",
    "5. Take a screenshot of the outcome to document that you got this working.\n",
    "6. Using AWS CLI - **terminate the instance**\n",
    "7. **delete the S3 bucket**\n",
    "8. **you must delete all your personal AMI and snapshots** at this point if you do not want to incur any charges moving forward."
   ]
  },
  {
   "cell_type": "markdown",
   "metadata": {},
   "source": [
    "#### Answer\n",
    "The screenshot of uploading the files to the S3 bucket:\n",
    "![uploading the files to S3](file_upload.png)\n",
    "\n",
    "The screenshot of the R script output:\n",
    "![analysis pic](analysis.png)"
   ]
  },
  {
   "cell_type": "markdown",
   "metadata": {
    "colab_type": "text",
    "id": "3IUNYaUeMwFh"
   },
   "source": [
    "### Exercise 4 (Optional) - Accessing AWS using Python API\n",
    "\n",
    "Note: To complete this exercise, you should set up AWS CLI on your local computer.\n",
    "Install AWS Python API: `pip install boto3`. In this exercise you need to (obviously using python and `boto3`):\n",
    "\n",
    "1. Create a resource `ec2`\n",
    "1. [Create an instance](https://boto3.readthedocs.io/en/latest/reference/services/ec2.html#EC2.ServiceResource.create_instances) (make sure to use the argument `InstanceType='t2.micro'`)\n",
    "2. Closing all instances. (See [here](https://boto3.amazonaws.com/v1/documentation/api/latest/reference/services/ec2.html#EC2.ServiceResource.instances) for getting all instances and [here](https://boto3.amazonaws.com/v1/documentation/api/latest/reference/services/ec2.html#EC2.Instance.terminate) to terminate instances)\n",
    "\n",
    "A quick [tutorial](https://boto3.readthedocs.io/en/latest/guide/migrationec2.html#launching-new-instances) on how to launch, list, and terminate instances."
   ]
  },
  {
   "cell_type": "code",
   "execution_count": null,
   "metadata": {
    "colab": {},
    "colab_type": "code",
    "id": "QGTnw8rRMwFj"
   },
   "outputs": [],
   "source": [
    "# TODO"
   ]
  }
 ],
 "metadata": {
  "colab": {
   "name": "lab3.ipynb",
   "provenance": []
  },
  "kernelspec": {
   "display_name": "Python 3 (ipykernel)",
   "language": "python",
   "name": "python3"
  },
  "language_info": {
   "codemirror_mode": {
    "name": "ipython",
    "version": 3
   },
   "file_extension": ".py",
   "mimetype": "text/x-python",
   "name": "python",
   "nbconvert_exporter": "python",
   "pygments_lexer": "ipython3",
   "version": "3.11.4"
  }
 },
 "nbformat": 4,
 "nbformat_minor": 4
}
